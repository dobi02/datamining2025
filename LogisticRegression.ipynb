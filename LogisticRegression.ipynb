{
 "cells": [
  {
   "cell_type": "code",
   "id": "initial_id",
   "metadata": {
    "collapsed": true,
    "ExecuteTime": {
     "end_time": "2025-04-12T13:56:01.230855300Z",
     "start_time": "2025-04-12T13:56:01.202837300Z"
    }
   },
   "source": [
    "import pandas as pd\n",
    "import numpy as np\n",
    "from imblearn.over_sampling import SMOTE\n",
    "import matplotlib.pyplot as plt\n",
    "from sklearn.experimental import enable_iterative_imputer\n",
    "from sklearn.impute import IterativeImputer\n",
    "from sklearn.model_selection import train_test_split\n",
    "import statsmodels.api as sm\n",
    "from sklearn.feature_selection import mutual_info_classif\n",
    "from sklearn.preprocessing import LabelEncoder\n",
    "from sklearn.linear_model import LogisticRegression\n",
    "from sklearn.metrics import (\n",
    "    classification_report,\n",
    "    confusion_matrix,\n",
    "    roc_curve,\n",
    "    roc_auc_score,\n",
    "    precision_recall_curve,\n",
    "    average_precision_score,\n",
    "    ConfusionMatrixDisplay,\n",
    "    RocCurveDisplay,\n",
    "    PrecisionRecallDisplay\n",
    ")\n",
    "from statsmodels.stats.outliers_influence import variance_inflation_factor\n",
    "from itertools import combinations\n",
    "from statsmodels.tools.tools import add_constant\n",
    "from scipy.interpolate import make_interp_spline"
   ],
   "outputs": [],
   "execution_count": 28
  },
  {
   "metadata": {
    "ExecuteTime": {
     "end_time": "2025-04-12T13:56:01.262417100Z",
     "start_time": "2025-04-12T13:56:01.231858200Z"
    }
   },
   "cell_type": "code",
   "source": [
    "# 1. 데이터 불러오기\n",
    "file_path =\"AmesHousing.csv\"\n",
    "df = pd.read_csv(file_path)"
   ],
   "id": "e54fe21000bf0785",
   "outputs": [],
   "execution_count": 29
  },
  {
   "metadata": {},
   "cell_type": "markdown",
   "source": [
    "결측치 처리"
   ],
   "id": "595a2a410f8af5e3"
  },
  {
   "metadata": {
    "ExecuteTime": {
     "end_time": "2025-04-12T13:56:01.375222Z",
     "start_time": "2025-04-12T13:56:01.249416500Z"
    }
   },
   "cell_type": "code",
   "source": [
    "missing = df.isnull().sum()\n",
    "missing = missing[missing > 0].sort_values(ascending=False)\n",
    "\n",
    "edited_df = df\n",
    "\n",
    "#결측치 80%이상인경우 컬럼 삭제\n",
    "missing_cols = missing.loc[(missing / len(df)) > 0.80].index\n",
    "edited_df = edited_df.drop(columns=missing_cols)\n",
    "\n",
    "missing_cols = missing.loc[(missing / len(df)) < 0.05].index\n",
    "for col in missing_cols:\n",
    "    if edited_df[col].dtype == 'object' or edited_df[col].dtype.name == 'category':\n",
    "        #결측치 5%이하 범주형 변수 최빈값 대체\n",
    "        edited_df[col] = edited_df[col].fillna(edited_df[col].mode().iloc[0])\n",
    "    else:\n",
    "        #결측치 5%이하 수치형 변수 중앙값 대체\n",
    "        edited_df[col] = edited_df[col].fillna(edited_df[col].median())\n",
    "        \n",
    "\n",
    "#수치형은 MICE, 범주형은 'Missing'으로 결측치 채우기\n",
    "missing_cols = missing.loc[(0.05 <= (missing / len(df))) & ((missing / len(df)) <= 0.80)].index\n",
    "\n",
    "numeric_cols = edited_df.select_dtypes(include=['number']).columns\n",
    "\n",
    "for col in missing_cols:\n",
    "    if edited_df[col].dtype == 'object' or edited_df[col].dtype.name == 'category':\n",
    "        edited_df[col] = edited_df[col].fillna('Missing')\n",
    "\n",
    "#MICE Imputation(다중 대체)이용하여 결측치 제거\n",
    "imputer = IterativeImputer(random_state=0)\n",
    "edited_df[numeric_cols] = imputer.fit_transform(edited_df[numeric_cols])"
   ],
   "id": "c124307a4ce7cd79",
   "outputs": [],
   "execution_count": 30
  },
  {
   "metadata": {},
   "cell_type": "markdown",
   "source": [
    "타겟 변수 이진화"
   ],
   "id": "dcd1cfd174770e46"
  },
  {
   "metadata": {
    "ExecuteTime": {
     "end_time": "2025-04-12T13:56:01.384516800Z",
     "start_time": "2025-04-12T13:56:01.375222Z"
    }
   },
   "cell_type": "code",
   "source": [
    "#상위 10% 기준 이진화 (premium house 예측)\n",
    "threshold = edited_df['SalePrice'].quantile(0.90)\n",
    "edited_df['target'] = (edited_df['SalePrice'] >= threshold).astype(int)\n",
    "\n",
    "edited_df.drop('SalePrice', axis=1, inplace=True)\n",
    "\n",
    "X = edited_df.drop('target', axis=1)\n",
    "y = edited_df['target']"
   ],
   "id": "661d818c4dc75907",
   "outputs": [],
   "execution_count": 31
  },
  {
   "metadata": {},
   "cell_type": "markdown",
   "source": [
    "1번 방법 - 원 핫 인코딩 진행 후 모든 변수 다 때려넣기  "
   ],
   "id": "c9a9cb6a78a50ea3"
  },
  {
   "metadata": {
    "ExecuteTime": {
     "end_time": "2025-04-12T13:56:01.403913400Z",
     "start_time": "2025-04-12T13:56:01.385516800Z"
    }
   },
   "cell_type": "code",
   "source": [
    "X_edited1 = pd.get_dummies(X, drop_first=True)"
   ],
   "id": "adeb981d21fb0788",
   "outputs": [],
   "execution_count": 32
  },
  {
   "metadata": {},
   "cell_type": "markdown",
   "source": [
    "2번 방법 - 수치형 변수 중 타겟 변수와의 상관관계가 0.1이상인 변수를 선택하여 진행 "
   ],
   "id": "157fe5047bf9e969"
  },
  {
   "metadata": {
    "ExecuteTime": {
     "end_time": "2025-04-12T13:56:01.421713800Z",
     "start_time": "2025-04-12T13:56:01.404913400Z"
    }
   },
   "cell_type": "code",
   "source": [
    "# 상관계수 기준 값 설정\n",
    "CORR_THRESHOLD = 0.1  # 원하는 값으로 조정 가능\n",
    "\n",
    "# 수치형 변수만 선택\n",
    "numeric_df = edited_df.select_dtypes(include='number')\n",
    "\n",
    "# 타겟 변수와 상관계수 계산\n",
    "corr_with_target = numeric_df.corr()['target'].drop('target').abs()\n",
    "\n",
    "# 기준 이상 변수만 선택\n",
    "selected_features_corr = corr_with_target[corr_with_target >= CORR_THRESHOLD].index.tolist()\n",
    "\n",
    "print(f\"상관계수 {CORR_THRESHOLD} 이상 변수: \", selected_features_corr)\n",
    "\n",
    "# 최종 변수 선택\n",
    "X_edited2 = X[selected_features_corr]\n"
   ],
   "id": "7ce8d71070f19936",
   "outputs": [
    {
     "name": "stdout",
     "output_type": "stream",
     "text": [
      "상관계수 0.1 이상 변수:  ['PID', 'Lot Frontage', 'Lot Area', 'Overall Qual', 'Year Built', 'Year Remod/Add', 'Mas Vnr Area', 'BsmtFin SF 1', 'Total Bsmt SF', '1st Flr SF', '2nd Flr SF', 'Gr Liv Area', 'Bsmt Full Bath', 'Full Bath', 'Half Bath', 'TotRms AbvGrd', 'Fireplaces', 'Garage Yr Blt', 'Garage Cars', 'Garage Area', 'Wood Deck SF', 'Open Porch SF']\n"
     ]
    }
   ],
   "execution_count": 33
  },
  {
   "metadata": {},
   "cell_type": "markdown",
   "source": [
    "3번 방법 - Mutual Information 체크를 통해 MI가 0.05 이상인 변수를 선택하여 진행 (이 경우 범주형 변수 포함 가능)"
   ],
   "id": "7c3dc2c81ef57cca"
  },
  {
   "metadata": {
    "ExecuteTime": {
     "end_time": "2025-04-12T13:56:02.001124400Z",
     "start_time": "2025-04-12T13:56:01.416713500Z"
    }
   },
   "cell_type": "code",
   "source": [
    "# MI 기준 값 설정\n",
    "MI_THRESHOLD = 0.01  # 원하는 값으로 조절 (보통 0.01 ~ 0.05 사이 추천)\n",
    "\n",
    "df_mi = edited_df.copy()\n",
    "cat_cols_all = df_mi.select_dtypes(include=['object']).columns\n",
    "\n",
    "# 범주형 변수 Label Encoding\n",
    "for col in cat_cols_all:\n",
    "    df_mi[col] = LabelEncoder().fit_transform(df_mi[col])\n",
    "\n",
    "# Mutual Information 계산\n",
    "X_mi = df_mi.drop(columns=['target'])\n",
    "y_mi = df_mi['target']\n",
    "\n",
    "#수치형 / 범주형 구분\n",
    "num_cols = X_mi.select_dtypes(exclude='object').columns\n",
    "cat_cols = X_mi.select_dtypes(include='object').columns\n",
    "\n",
    "# 각 feature가 discrete인지 여부 리스트 생성\n",
    "discrete_flags = [True if col in cat_cols else False for col in X_mi.columns]\n",
    "\n",
    "mi_scores = mutual_info_classif(X_mi, y_mi, discrete_features=discrete_flags, random_state=42)\n",
    "mi_result = pd.Series(mi_scores, index=X_mi.columns).sort_values(ascending=False)\n",
    "\n",
    "# MI 기준 이상 변수 선택\n",
    "selected_features_MI = mi_result[mi_result >= MI_THRESHOLD].index.tolist()\n",
    "\n",
    "print(f\"MI {MI_THRESHOLD} 이상 변수: \", selected_features_MI)\n",
    "\n",
    "# 수치형 / 범주형 분리\n",
    "num_cols = df[selected_features_MI].select_dtypes(exclude='object').columns.tolist()\n",
    "cat_cols = df[selected_features_MI].select_dtypes(include='object').columns.tolist()\n",
    "\n",
    "# 범주형 변수 One-Hot Encoding\n",
    "df_cat_encoded = pd.get_dummies(edited_df[cat_cols], drop_first=True)\n",
    "\n",
    "# 최종 X 데이터 구성\n",
    "X_edited3 = pd.concat([edited_df[num_cols], df_cat_encoded], axis=1)\n"
   ],
   "id": "463bbe1adef68d7c",
   "outputs": [
    {
     "name": "stdout",
     "output_type": "stream",
     "text": [
      "MI 0.01 이상 변수:  ['PID', 'Overall Qual', 'Order', 'Neighborhood', 'Garage Cars', 'Garage Area', 'Bsmt Qual', 'Exter Qual', 'Kitchen Qual', 'Gr Liv Area', '1st Flr SF', 'Total Bsmt SF', 'Year Built', 'BsmtFin SF 1', 'Fireplace Qu', 'Mas Vnr Area', 'Year Remod/Add', 'Garage Yr Blt', 'TotRms AbvGrd', 'Lot Frontage', 'Foundation', 'Lot Area', 'Garage Finish', 'Mas Vnr Type', 'Open Porch SF', 'Full Bath', '2nd Flr SF', 'Fireplaces', 'MS SubClass', 'Heating QC', 'BsmtFin Type 1', 'Bsmt Exposure', 'Exterior 2nd', 'Roof Style', 'Sale Condition', 'Overall Cond', 'Sale Type', 'Garage Type', 'Wood Deck SF', 'Exterior 1st', 'Bsmt Full Bath', 'House Style', 'MS Zoning', 'Land Contour', 'Condition 2', 'Bsmt Unf SF', 'Kitchen AbvGr', 'Lot Shape', 'Garage Qual', 'Bedroom AbvGr', 'Garage Cond', 'Exter Cond', 'Central Air', 'Electrical']\n"
     ]
    }
   ],
   "execution_count": 34
  },
  {
   "metadata": {},
   "cell_type": "markdown",
   "source": [
    "1번에 대한 결과"
   ],
   "id": "6955c3aa39f4579"
  },
  {
   "metadata": {
    "ExecuteTime": {
     "end_time": "2025-04-12T13:56:02.200166800Z",
     "start_time": "2025-04-12T13:56:02.000123300Z"
    }
   },
   "cell_type": "code",
   "source": [
    "#train test split, Train과 Test에서 class 비율을 유지하기 위하여 stratify 옵션을 True로 둔다\n",
    "X_train, X_test1, y_train, y_test = train_test_split(\n",
    "    X_edited1, y, test_size=0.2, random_state=42, stratify=y\n",
    ")\n",
    "\n",
    "model1 = LogisticRegression(max_iter=1000)\n",
    "model1.fit(X_train, y_train)\n",
    "\n",
    "odds_ratios = pd.Series(np.exp(model1.coef_[0]), index=X_edited1.columns)\n",
    "print(\"odds ratio >= 1인 변수의 개수: \", len(odds_ratios[odds_ratios >= 1]))\n",
    "print(\"odds ratio < 1인 변수의 개수: \", len(odds_ratios[odds_ratios < 1]))\n",
    "print(\"odds ratio 상위 5개 변수\\n\", odds_ratios.sort_values(ascending=False).head(5))\n",
    "print(\"odds ratio 하위 5개 변수\\n\", odds_ratios.sort_values().head(5))\n",
    "\n",
    "y_pred = model1.predict(X_test1)\n",
    "y_proba = model1.predict_proba(X_test1)[:, 1]\n",
    "\n",
    "report = classification_report(y_test, y_pred, output_dict=True)\n",
    "report_df1 = pd.DataFrame(report).transpose()\n",
    "\n",
    "print(report_df1)"
   ],
   "id": "2c01d3b5417a812e",
   "outputs": [
    {
     "name": "stdout",
     "output_type": "stream",
     "text": [
      "odds ratio >= 1인 변수의 개수:  85\n",
      "odds ratio < 1인 변수의 개수:  172\n",
      "odds ratio 상위 5개 변수\n",
      " Garage Area      1.004625\n",
      "Mas Vnr Area     1.002685\n",
      "Gr Liv Area      1.001538\n",
      "Total Bsmt SF    1.001444\n",
      "BsmtFin SF 1     1.001108\n",
      "dtype: float64\n",
      "odds ratio 하위 5개 변수\n",
      " Misc Val          0.995763\n",
      "Yr Sold           0.998040\n",
      "Year Remod/Add    0.998678\n",
      "Garage Yr Blt     0.998745\n",
      "Year Built        0.998828\n",
      "dtype: float64\n",
      "              precision    recall  f1-score     support\n",
      "0              0.966605  0.988615  0.977486  527.000000\n",
      "1              0.872340  0.694915  0.773585   59.000000\n",
      "accuracy       0.959044  0.959044  0.959044    0.959044\n",
      "macro avg      0.919473  0.841765  0.875535  586.000000\n",
      "weighted avg   0.957114  0.959044  0.956957  586.000000\n"
     ]
    }
   ],
   "execution_count": 35
  },
  {
   "cell_type": "markdown",
   "source": [
    "### 해석\n",
    "오즈비 상위 변수들은 면적과 관련된 변수들이고, (커질수록 비싸지고)\n",
    "오즈비 하위 변수들은 시간적 특성과 관련된 변수들이다 (오래될수록 싸지는)\n",
    "\n",
    "전체적으로 오즈비 값들이 1에 굉장히 가깝다 -> 변수가 워낙에 많고, 영향이 분산된 상황이라 그렇다.\n",
    "\n",
    "불균형 데이터이므로 1의 예측 성능이 전체적으로 떨어지는것을 볼 수 있다."
   ],
   "metadata": {
    "collapsed": false
   },
   "id": "feee9778ef20bb7c"
  },
  {
   "metadata": {},
   "cell_type": "markdown",
   "source": [
    "2번 상관관계 변수들에 대한 결과"
   ],
   "id": "c66e4d0de8526a36"
  },
  {
   "metadata": {
    "ExecuteTime": {
     "end_time": "2025-04-12T13:56:02.266382Z",
     "start_time": "2025-04-12T13:56:02.200166800Z"
    }
   },
   "cell_type": "code",
   "source": [
    "#train test split, Train과 Test에서 class 비율을 유지하기 위하여 stratify 옵션을 True로 둔다\n",
    "X_train, X_test2, y_train, y_test = train_test_split(\n",
    "    X_edited2, y, test_size=0.2, random_state=42, stratify=y\n",
    ")\n",
    "\n",
    "model2 = LogisticRegression(max_iter=1000)\n",
    "model2.fit(X_train, y_train)\n",
    "\n",
    "odds_ratios = pd.Series(np.exp(model2.coef_[0]), index=X_edited2.columns)\n",
    "print(\"odds ratio >= 1인 변수의 개수: \", len(odds_ratios[odds_ratios >= 1.0]))\n",
    "print(\"odds ratio < 1인 변수의 개수: \", len(odds_ratios[odds_ratios < 1.0]))\n",
    "print(\"odds ratio 상위 5개 변수\\n\", odds_ratios.sort_values(ascending=False).head(5))\n",
    "print(\"odds ratio 하위 5개 변수\\n\", odds_ratios.sort_values().head(5))\n",
    "\n",
    "y_pred = model2.predict(X_test2)\n",
    "y_proba = model2.predict_proba(X_test2)[:, 1]\n",
    "\n",
    "report = classification_report(y_test, y_pred, output_dict=True)\n",
    "report_df2 = pd.DataFrame(report).transpose()\n",
    "\n",
    "print(report_df2)"
   ],
   "id": "3c5f87dcdb5aa767",
   "outputs": [
    {
     "name": "stdout",
     "output_type": "stream",
     "text": [
      "odds ratio >= 1인 변수의 개수:  16\n",
      "odds ratio < 1인 변수의 개수:  6\n",
      "odds ratio 상위 5개 변수\n",
      " Garage Area      1.004329\n",
      "Mas Vnr Area     1.002276\n",
      "Total Bsmt SF    1.001447\n",
      "Gr Liv Area      1.001321\n",
      "BsmtFin SF 1     1.000919\n",
      "dtype: float64\n",
      "odds ratio 하위 5개 변수\n",
      " Year Remod/Add    0.998257\n",
      "Garage Yr Blt     0.998322\n",
      "Year Built        0.998407\n",
      "Lot Frontage      0.999877\n",
      "TotRms AbvGrd     0.999998\n",
      "dtype: float64\n",
      "              precision    recall  f1-score     support\n",
      "0              0.961255  0.988615  0.974743  527.000000\n",
      "1              0.863636  0.644068  0.737864   59.000000\n",
      "accuracy       0.953925  0.953925  0.953925    0.953925\n",
      "macro avg      0.912445  0.816341  0.856303  586.000000\n",
      "weighted avg   0.951426  0.953925  0.950893  586.000000\n"
     ]
    }
   ],
   "execution_count": 36
  },
  {
   "cell_type": "markdown",
   "source": [
    "해석: 모두 넣은 모델에 비해서 odds ratio가 조금 더 크거나, 조금 더 작은 변수들이 발견 ex) Garage Area, Garage Yr Blt\n",
    "이는 변수가 적어지면서 영향이 더 집중된 이유로 볼 수 있다.\n",
    "\n",
    "전체적인 성능이 떨어진것으로 보인다"
   ],
   "metadata": {
    "collapsed": false
   },
   "id": "5d7938fde63930a5"
  },
  {
   "cell_type": "markdown",
   "source": [
    "3번 MI적용 데이터"
   ],
   "metadata": {
    "collapsed": false
   },
   "id": "e46889320fe296c7"
  },
  {
   "cell_type": "code",
   "outputs": [
    {
     "name": "stdout",
     "output_type": "stream",
     "text": [
      "odds ratio >= 1인 변수의 개수:  64\n",
      "odds ratio < 1인 변수의 개수:  131\n",
      "odds ratio 상위 5개 변수\n",
      " Garage Area      1.004594\n",
      "Mas Vnr Area     1.002463\n",
      "Gr Liv Area      1.001394\n",
      "Total Bsmt SF    1.001307\n",
      "BsmtFin SF 1     1.001008\n",
      "dtype: float64\n",
      "odds ratio 하위 5개 변수\n",
      " Year Remod/Add    0.998179\n",
      "Garage Yr Blt     0.998247\n",
      "Year Built        0.998333\n",
      "MS SubClass       0.999770\n",
      "Lot Frontage      0.999874\n",
      "dtype: float64\n",
      "              precision    recall  f1-score     support\n",
      "0              0.963031  0.988615  0.975655  527.000000\n",
      "1              0.866667  0.661017  0.750000   59.000000\n",
      "accuracy       0.955631  0.955631  0.955631    0.955631\n",
      "macro avg      0.914849  0.824816  0.862828  586.000000\n",
      "weighted avg   0.953329  0.955631  0.952936  586.000000\n"
     ]
    }
   ],
   "source": [
    "#train test split, Train과 Test에서 class 비율을 유지하기 위하여 stratify 옵션을 True로 둔다\n",
    "X_train, X_test3, y_train, y_test = train_test_split(\n",
    "    X_edited3, y, test_size=0.2, random_state=42, stratify=y\n",
    ")\n",
    "\n",
    "model3 = LogisticRegression(max_iter=1000)\n",
    "model3.fit(X_train, y_train)\n",
    "\n",
    "odds_ratios = pd.Series(np.exp(model3.coef_[0]), index=X_edited3.columns)\n",
    "print(\"odds ratio >= 1인 변수의 개수: \", len(odds_ratios[odds_ratios >= 1.0]))\n",
    "print(\"odds ratio < 1인 변수의 개수: \", len(odds_ratios[odds_ratios < 1.0]))\n",
    "print(\"odds ratio 상위 5개 변수\\n\", odds_ratios.sort_values(ascending=False).head(5))\n",
    "print(\"odds ratio 하위 5개 변수\\n\", odds_ratios.sort_values().head(5))\n",
    "\n",
    "y_pred = model3.predict(X_test3)\n",
    "y_proba = model3.predict_proba(X_test3)[:, 1]\n",
    "\n",
    "report = classification_report(y_test, y_pred, output_dict=True)\n",
    "report_df3 = pd.DataFrame(report).transpose()\n",
    "\n",
    "print(report_df3)"
   ],
   "metadata": {
    "collapsed": false,
    "ExecuteTime": {
     "end_time": "2025-04-12T13:56:02.492858800Z",
     "start_time": "2025-04-12T13:56:02.265382Z"
    }
   },
   "id": "176ebdc70ad74cbe",
   "execution_count": 37
  },
  {
   "cell_type": "markdown",
   "source": [
    "불균형 데이터이므로, 모델이 앞의 방식들에 더해 SMOTE를 사용하여 Over-sampling을 진행하여 소수 클래스를 더 잘 잡아낼 수 있도록 해본다."
   ],
   "metadata": {
    "collapsed": false
   },
   "id": "f51caeca6ced74f0"
  },
  {
   "cell_type": "code",
   "outputs": [],
   "source": [
    "smote = SMOTE(random_state=42)"
   ],
   "metadata": {
    "collapsed": false,
    "ExecuteTime": {
     "end_time": "2025-04-12T13:56:02.492858800Z",
     "start_time": "2025-04-12T13:56:02.490060300Z"
    }
   },
   "id": "f09bd9894902935f",
   "execution_count": 38
  },
  {
   "cell_type": "code",
   "outputs": [
    {
     "name": "stdout",
     "output_type": "stream",
     "text": [
      "odds ratio >= 1인 변수의 개수:  103\n",
      "odds ratio < 1인 변수의 개수:  154\n",
      "odds ratio 상위 5개 변수\n",
      " Garage Area      1.005355\n",
      "Mas Vnr Area     1.003327\n",
      "Gr Liv Area      1.002593\n",
      "Total Bsmt SF    1.002246\n",
      "BsmtFin SF 1     1.002055\n",
      "dtype: float64\n",
      "odds ratio 하위 5개 변수\n",
      " Misc Val          0.996173\n",
      "Yr Sold           0.997542\n",
      "Year Remod/Add    0.998304\n",
      "Garage Yr Blt     0.998327\n",
      "Year Built        0.998440\n",
      "dtype: float64\n",
      "              precision    recall  f1-score     support\n",
      "0              0.989669  0.908918  0.947577  527.000000\n",
      "1              0.529412  0.915254  0.670807   59.000000\n",
      "accuracy       0.909556  0.909556  0.909556    0.909556\n",
      "macro avg      0.759541  0.912086  0.809192  586.000000\n",
      "weighted avg   0.943329  0.909556  0.919711  586.000000\n"
     ]
    },
    {
     "name": "stderr",
     "output_type": "stream",
     "text": [
      "C:\\Users\\dongbin\\anaconda3\\Lib\\site-packages\\sklearn\\linear_model\\_logistic.py:465: ConvergenceWarning: lbfgs failed to converge (status=1):\n",
      "STOP: TOTAL NO. OF ITERATIONS REACHED LIMIT.\n",
      "\n",
      "Increase the number of iterations (max_iter) or scale the data as shown in:\n",
      "    https://scikit-learn.org/stable/modules/preprocessing.html\n",
      "Please also refer to the documentation for alternative solver options:\n",
      "    https://scikit-learn.org/stable/modules/linear_model.html#logistic-regression\n",
      "  n_iter_i = _check_optimize_result(\n"
     ]
    }
   ],
   "source": [
    "#train test split, Train과 Test에서 class 비율을 유지하기 위하여 stratify 옵션을 True로 둔다\n",
    "X_train, X_test4, y_train, y_test = train_test_split(\n",
    "    X_edited1, y, test_size=0.2, random_state=42, stratify=y\n",
    ")\n",
    "\n",
    "X_train_smote, y_train_smote = smote.fit_resample(X_train, y_train)\n",
    "model1_2 = LogisticRegression(max_iter=1000)\n",
    "model1_2.fit(X_train_smote, y_train_smote)\n",
    "\n",
    "odds_ratios = pd.Series(np.exp(model1_2.coef_[0]), index=X_edited1.columns)\n",
    "print(\"odds ratio >= 1인 변수의 개수: \", len(odds_ratios[odds_ratios >= 1]))\n",
    "print(\"odds ratio < 1인 변수의 개수: \", len(odds_ratios[odds_ratios < 1]))\n",
    "print(\"odds ratio 상위 5개 변수\\n\", odds_ratios.sort_values(ascending=False).head(5))\n",
    "print(\"odds ratio 하위 5개 변수\\n\", odds_ratios.sort_values().head(5))\n",
    "\n",
    "y_pred = model1_2.predict(X_test4)\n",
    "y_proba = model1_2.predict_proba(X_test4)[:, 1]\n",
    "\n",
    "report = classification_report(y_test, y_pred, output_dict=True)\n",
    "report_df4 = pd.DataFrame(report).transpose()\n",
    "\n",
    "print(report_df4)"
   ],
   "metadata": {
    "collapsed": false,
    "ExecuteTime": {
     "end_time": "2025-04-12T13:56:03.047858100Z",
     "start_time": "2025-04-12T13:56:02.492858800Z"
    }
   },
   "id": "5d9ddf59ba803019",
   "execution_count": 39
  },
  {
   "cell_type": "code",
   "outputs": [
    {
     "name": "stdout",
     "output_type": "stream",
     "text": [
      "odds ratio >= 1인 변수의 개수:  15\n",
      "odds ratio < 1인 변수의 개수:  7\n",
      "odds ratio 상위 5개 변수\n",
      " Garage Area      1.005275\n",
      "Mas Vnr Area     1.003133\n",
      "Gr Liv Area      1.002460\n",
      "Total Bsmt SF    1.002421\n",
      "BsmtFin SF 1     1.001819\n",
      "dtype: float64\n",
      "odds ratio 하위 5개 변수\n",
      " Year Remod/Add    0.997570\n",
      "Garage Yr Blt     0.997601\n",
      "Year Built        0.997717\n",
      "Lot Frontage      0.999859\n",
      "Lot Area          0.999989\n",
      "dtype: float64\n",
      "              precision    recall  f1-score     support\n",
      "0              0.989540  0.897533  0.941294  527.000000\n",
      "1              0.500000  0.915254  0.646707   59.000000\n",
      "accuracy       0.899317  0.899317  0.899317    0.899317\n",
      "macro avg      0.744770  0.906394  0.794000  586.000000\n",
      "weighted avg   0.940252  0.899317  0.911634  586.000000\n"
     ]
    }
   ],
   "source": [
    "#train test split, Train과 Test에서 class 비율을 유지하기 위하여 stratify 옵션을 True로 둔다\n",
    "X_train, X_test5, y_train, y_test = train_test_split(\n",
    "    X_edited2, y, test_size=0.2, random_state=42, stratify=y\n",
    ")\n",
    "\n",
    "X_train_smote, y_train_smote = smote.fit_resample(X_train, y_train)\n",
    "model2_2 = LogisticRegression(max_iter=1000)\n",
    "model2_2.fit(X_train_smote, y_train_smote)\n",
    "\n",
    "odds_ratios = pd.Series(np.exp(model2_2.coef_[0]), index=X_edited2.columns)\n",
    "print(\"odds ratio >= 1인 변수의 개수: \", len(odds_ratios[odds_ratios >= 1]))\n",
    "print(\"odds ratio < 1인 변수의 개수: \", len(odds_ratios[odds_ratios < 1]))\n",
    "print(\"odds ratio 상위 5개 변수\\n\", odds_ratios.sort_values(ascending=False).head(5))\n",
    "print(\"odds ratio 하위 5개 변수\\n\", odds_ratios.sort_values().head(5))\n",
    "\n",
    "y_pred = model2_2.predict(X_test5)\n",
    "y_proba = model2_2.predict_proba(X_test5)[:, 1]\n",
    "\n",
    "report = classification_report(y_test, y_pred, output_dict=True)\n",
    "report_df5 = pd.DataFrame(report).transpose()\n",
    "\n",
    "print(report_df5)"
   ],
   "metadata": {
    "collapsed": false,
    "ExecuteTime": {
     "end_time": "2025-04-12T13:56:03.166225Z",
     "start_time": "2025-04-12T13:56:03.045859200Z"
    }
   },
   "id": "e55bb80758652f9",
   "execution_count": 40
  },
  {
   "cell_type": "code",
   "outputs": [
    {
     "name": "stdout",
     "output_type": "stream",
     "text": [
      "odds ratio >= 1인 변수의 개수:  78\n",
      "odds ratio < 1인 변수의 개수:  117\n",
      "odds ratio 상위 5개 변수\n",
      " Garage Area      1.005127\n",
      "Mas Vnr Area     1.003161\n",
      "Gr Liv Area      1.002512\n",
      "Total Bsmt SF    1.002150\n",
      "BsmtFin SF 1     1.002055\n",
      "dtype: float64\n",
      "odds ratio 하위 5개 변수\n",
      " Year Remod/Add    0.997577\n",
      "Garage Yr Blt     0.997609\n",
      "Year Built        0.997716\n",
      "Lot Frontage      0.999855\n",
      "MS SubClass       0.999951\n",
      "dtype: float64\n",
      "              precision    recall  f1-score    support\n",
      "0              0.989583  0.901328  0.943396  527.00000\n",
      "1              0.509434  0.915254  0.654545   59.00000\n",
      "accuracy       0.902730  0.902730  0.902730    0.90273\n",
      "macro avg      0.749509  0.908291  0.798971  586.00000\n",
      "weighted avg   0.941241  0.902730  0.914314  586.00000\n"
     ]
    }
   ],
   "source": [
    "#train test split, Train과 Test에서 class 비율을 유지하기 위하여 stratify 옵션을 True로 둔다\n",
    "X_train, X_test6, y_train, y_test = train_test_split(\n",
    "    X_edited3, y, test_size=0.2, random_state=42, stratify=y\n",
    ")\n",
    "\n",
    "X_train_smote, y_train_smote = smote.fit_resample(X_train, y_train)\n",
    "model3_2 = LogisticRegression(max_iter=1000)\n",
    "model3_2.fit(X_train_smote, y_train_smote)\n",
    "\n",
    "odds_ratios = pd.Series(np.exp(model3_2.coef_[0]), index=X_edited3.columns)\n",
    "print(\"odds ratio >= 1인 변수의 개수: \", len(odds_ratios[odds_ratios >= 1]))\n",
    "print(\"odds ratio < 1인 변수의 개수: \", len(odds_ratios[odds_ratios < 1]))\n",
    "print(\"odds ratio 상위 5개 변수\\n\", odds_ratios.sort_values(ascending=False).head(5))\n",
    "print(\"odds ratio 하위 5개 변수\\n\", odds_ratios.sort_values().head(5))\n",
    "\n",
    "y_pred = model3_2.predict(X_test6)\n",
    "y_proba = model3_2.predict_proba(X_test6)[:, 1]\n",
    "\n",
    "report = classification_report(y_test, y_pred, output_dict=True)\n",
    "report_df6 = pd.DataFrame(report).transpose()\n",
    "\n",
    "print(report_df6)"
   ],
   "metadata": {
    "collapsed": false,
    "ExecuteTime": {
     "end_time": "2025-04-12T13:56:03.437415700Z",
     "start_time": "2025-04-12T13:56:03.163225100Z"
    }
   },
   "id": "bd04a800f99fdff3",
   "execution_count": 41
  },
  {
   "cell_type": "markdown",
   "source": [
    "SMOTE를 사용하여 데이터를 합성해서 늘릴경우, 클래스 1에 대한 recall값이 전체적으로 높아지고, 대신에 Precision이 낮아지는 경향을 볼 수 있다."
   ],
   "metadata": {
    "collapsed": false
   },
   "id": "3c4c9a3473c847c2"
  },
  {
   "cell_type": "code",
   "outputs": [
    {
     "data": {
      "text/plain": "<Figure size 700x500 with 1 Axes>",
      "image/png": "[encoded data removed]"
     },
     "metadata": {},
     "output_type": "display_data"
    }
   ],
   "source": [
    "fig, ax = plt.subplots(figsize=(7, 5))\n",
    "\n",
    "PrecisionRecallDisplay.from_estimator(model1, X_test1, y_test, ax=ax, name='All')\n",
    "PrecisionRecallDisplay.from_estimator(model2, X_test2, y_test, ax=ax, name='Corr')\n",
    "PrecisionRecallDisplay.from_estimator(model3, X_test3, y_test, ax=ax, name='MI')\n",
    "PrecisionRecallDisplay.from_estimator(model1_2, X_test4, y_test, ax=ax, name='All_SMOTE')\n",
    "PrecisionRecallDisplay.from_estimator(model2_2, X_test5, y_test, ax=ax, name='Corr_SMOTE')\n",
    "PrecisionRecallDisplay.from_estimator(model3_2, X_test6, y_test, ax=ax, name='MI_SMOTE')\n",
    "\n",
    "plt.xlim(0.4, 1)  \n",
    "plt.ylim(0.4, 1)  \n",
    "plt.title('PR Curve Comparison')\n",
    "plt.show()"
   ],
   "metadata": {
    "collapsed": false,
    "ExecuteTime": {
     "end_time": "2025-04-12T13:56:03.534122400Z",
     "start_time": "2025-04-12T13:56:03.438416300Z"
    }
   },
   "id": "550ee3e145b3673e",
   "execution_count": 42
  },
  {
   "cell_type": "code",
   "outputs": [
    {
     "data": {
      "text/plain": "<Figure size 700x500 with 1 Axes>",
      "image/png": "[encoded data removed]"
     },
     "metadata": {},
     "output_type": "display_data"
    }
   ],
   "source": [
    "# PR Curve Smoothing + AP 4자리 출력 함수\n",
    "def plot_smooth_pr(ax, model, X_test, y_test, label_name, color=None, linestyle='-'):\n",
    "    y_score = model.predict_proba(X_test)[:, 1]\n",
    "    precision, recall, _ = precision_recall_curve(y_test, y_score)\n",
    "\n",
    "    recall, idx = np.unique(recall, return_index=True)\n",
    "    precision = precision[idx]\n",
    "\n",
    "    recall_smooth = np.linspace(recall.min(), recall.max(), 1000)\n",
    "    spl = make_interp_spline(recall, precision, k=3)\n",
    "    precision_smooth = spl(recall_smooth)\n",
    "\n",
    "    ap = average_precision_score(y_test, y_score)\n",
    "    ax.plot(recall_smooth, precision_smooth, label=f'{label_name} (AP={ap:.4f})', linestyle=linestyle, color=color)\n",
    "\n",
    "fig, ax = plt.subplots(figsize=(7, 5))\n",
    "\n",
    "plot_smooth_pr(ax, model1, X_test1, y_test, 'All')\n",
    "plot_smooth_pr(ax, model2, X_test2, y_test, 'Corr')\n",
    "plot_smooth_pr(ax, model3, X_test3, y_test, 'MI')\n",
    "plot_smooth_pr(ax, model1_2, X_test4, y_test, 'All_SMOTE')\n",
    "plot_smooth_pr(ax, model2_2, X_test5, y_test, 'Corr_SMOTE')\n",
    "plot_smooth_pr(ax, model3_2, X_test6, y_test, 'MI_SMOTE')\n",
    "\n",
    "plt.xlim(0.4, 1)\n",
    "plt.ylim(0.4, 1)\n",
    "plt.title('PR Curve Comparison')\n",
    "plt.legend()\n",
    "plt.show()"
   ],
   "metadata": {
    "collapsed": false,
    "ExecuteTime": {
     "end_time": "2025-04-12T13:56:03.630506500Z",
     "start_time": "2025-04-12T13:56:03.534122400Z"
    }
   },
   "id": "41912d4c920e5e55",
   "execution_count": 43
  },
  {
   "cell_type": "markdown",
   "source": [
    "AP(Average Precision, PR곡선의 아래면적)는 모든 변수+SMOTE를 적용한 모델이 가장 뛰어난 것을 알 수 있다."
   ],
   "metadata": {
    "collapsed": false
   },
   "id": "64295bdb88791c30"
  },
  {
   "cell_type": "code",
   "outputs": [
    {
     "name": "stdout",
     "output_type": "stream",
     "text": [
      "        Model  F1-score\n",
      "0         All  0.956957\n",
      "2          MI  0.952936\n",
      "1        Corr  0.950893\n",
      "3   All_SMOTE  0.919711\n",
      "5    MI_SMOTE  0.914314\n",
      "4  Corr_SMOTE  0.911634\n"
     ]
    }
   ],
   "source": [
    "results = [report_df1, report_df2, report_df3, report_df4, report_df5, report_df6]\n",
    "\n",
    "model_names = ['All', 'Corr', 'MI', 'All_SMOTE', 'Corr_SMOTE', 'MI_SMOTE']\n",
    "\n",
    "f1_scores = [df.loc['weighted avg', 'f1-score'] for df in results]  # 또는 'macro avg'\n",
    "\n",
    "f1_df = pd.DataFrame({\n",
    "    'Model': model_names,\n",
    "    'F1-score': f1_scores\n",
    "})\n",
    "\n",
    "print(f1_df.sort_values(by='F1-score', ascending=False))"
   ],
   "metadata": {
    "collapsed": false,
    "ExecuteTime": {
     "end_time": "2025-04-12T14:18:07.838851400Z",
     "start_time": "2025-04-12T14:18:07.833986500Z"
    }
   },
   "id": "f6c9e6a41da2b7ec",
   "execution_count": 53
  },
  {
   "cell_type": "markdown",
   "source": [
    "weighted avg의 f1-score를 비교한 결과는 모든 변수를 넣고 모델을 생성했을때가 가장 점수가 좋았다\n",
    "\n",
    "결론은, 전체적인 성능을 원한다면 모든 변수를 넣은 로지스틱 회귀 모델이 필요할 것이고,\n",
    "소수 클래스의 예측이 중요하다면, 모든 변수를 넣은 뒤, SMOTE를 통해 데이터를 추가한 모델이 필요할 것이다. \n",
    "\n",
    "또한, 상관관계나 MI를 통해 특정 변수들만을 추린 뒤 모델을 생성했을 때 전반적으로 모델의 성능이 나빠지는 모습이 보였는데, 이는 다수의 변수들이 타겟 결정에 기여했다고 볼 수 있다.\n",
    "이로부터 데이터 특성에 따라 feature selection이 항상 성능 향상에 기여한다고 볼 수 없다는 점을 알 수 있다."
   ],
   "metadata": {
    "collapsed": false
   },
   "id": "62b2be488b8bae9d"
  },
  {
   "cell_type": "markdown",
   "source": [
    "이번에는 모든 변수를 넣은 데이터에 대해 VIF분석 후, 다중공선성이 모델의 성능 및 odds ratio에 끼치는 영향을 알아보고자 한다.\n",
    "(이부분은 실패 했습니다)"
   ],
   "metadata": {
    "collapsed": false
   },
   "id": "ed4eeb51da8f9c87"
  },
  {
   "cell_type": "code",
   "outputs": [],
   "source": [
    "corr_matrix_signed = X_train.corr()\n",
    "corr_matrix_abs = corr_matrix_signed.abs()\n",
    "\n",
    "# 1. 가장 Odds Ratio가 높았던 변수 5개 찾기\n",
    "model_tmp = LogisticRegression(max_iter=1000)\n",
    "model_tmp.fit(X_train, y_train)\n",
    "odds_ratios = pd.Series(np.exp(model_tmp.coef_[0]), index=X_train.columns)\n",
    "top_5_odds_features = odds_ratios.sort_values(ascending=False).head(5).index.tolist()\n",
    "\n",
    "# 2. 각 변수별 상관관계가 높은 변수 5개 찾기 (중복, 이미 선택된 변수 제외)\n",
    "corr_matrix = X_train.corr().abs()\n",
    "related_features = set()\n",
    "drop_feature_list = []\n",
    "\n",
    "\n",
    "for feature in top_5_odds_features:\n",
    "    high_corr_features = (\n",
    "        corr_matrix[feature]\n",
    "        .drop(index=feature)  # 자기 자신 제외\n",
    "        .sort_values(ascending=False)\n",
    "        .index.difference(top_5_odds_features)  # top 5 제외\n",
    "        .difference(related_features)  # 중복 제외\n",
    "        .tolist()[:1]\n",
    "    )\n",
    "    for related in high_corr_features:\n",
    "        drop_feature_list.append({\n",
    "            'Base Feature': feature,\n",
    "            'Drop Feature': related,\n",
    "            'Correlation': corr_matrix_signed.loc[feature, related]\n",
    "        })\n",
    "    \n",
    "    related_features.update(high_corr_features)\n",
    "\n",
    "drop_features = list(related_features)\n",
    "drop_features_df = pd.DataFrame(drop_feature_list)\n",
    "\n",
    "\n",
    "# 3. 변수 제거 후 데이터셋 구성\n",
    "X_train_dropped = X_train.drop(columns=drop_features)\n",
    "X_test_dropped = X_test1.drop(columns=drop_features)\n",
    "\n",
    "# 제거 전 모델 학습\n",
    "model_before = LogisticRegression(max_iter=1000)\n",
    "model_before.fit(X_train, y_train)\n",
    "odds_ratio_before = pd.Series(np.exp(model_before.coef_[0]), index=X_train.columns)\n",
    "\n",
    "# 제거 후 모델 학습\n",
    "model_after = LogisticRegression(max_iter=1000)\n",
    "model_after.fit(X_train_dropped, y_train)\n",
    "odds_ratio_after = pd.Series(np.exp(model_after.coef_[0]), index=X_train_dropped.columns)\n",
    "\n",
    "# Odds Ratio 비교 (Top 5 변수만)\n",
    "odds_ratio_change = pd.DataFrame({\n",
    "    'Odds Ratio Before': odds_ratio_before[top_5_odds_features],\n",
    "    'Odds Ratio After': odds_ratio_after[top_5_odds_features]\n",
    "})"
   ],
   "metadata": {
    "collapsed": false
   },
   "id": "5bbbb9726e186eec",
   "execution_count": 85
  },
  {
   "cell_type": "code",
   "outputs": [
    {
     "name": "stdout",
     "output_type": "stream",
     "text": [
      "[{'Base Feature': 'Garage Area', 'Drop Feature': '1st Flr SF', 'Correlation': 0.47661240441661434}, {'Base Feature': 'Mas Vnr Area', 'Drop Feature': '2nd Flr SF', 'Correlation': 0.1449939674410188}, {'Base Feature': 'Gr Liv Area', 'Drop Feature': '3Ssn Porch', 'Correlation': 0.010382392561655403}, {'Base Feature': 'Total Bsmt SF', 'Drop Feature': 'Bedroom AbvGr', 'Correlation': 0.04985961381614235}, {'Base Feature': 'BsmtFin SF 1', 'Drop Feature': 'Bldg Type_2fmCon', 'Correlation': 0.01876395975876952}]\n",
      "               Odds Ratio Before  Odds Ratio After\n",
      "Garage Area             1.004625          1.004598\n",
      "Mas Vnr Area            1.002685          1.002549\n",
      "Gr Liv Area             1.001538          1.002321\n",
      "Total Bsmt SF           1.001444          1.001586\n",
      "BsmtFin SF 1            1.001108          1.001083\n"
     ]
    }
   ],
   "source": [
    "print(drop_feature_list)\n",
    "print(odds_ratio_change)"
   ],
   "metadata": {
    "collapsed": false,
    "ExecuteTime": {
     "end_time": "2025-04-12T14:56:03.175306600Z",
     "start_time": "2025-04-12T14:56:03.172160900Z"
    }
   },
   "id": "db86414d5fed5bee",
   "execution_count": 86
  }
 ],
 "metadata": {
  "kernelspec": {
   "display_name": "Python 3",
   "language": "python",
   "name": "python3"
  },
  "language_info": {
   "codemirror_mode": {
    "name": "ipython",
    "version": 2
   },
   "file_extension": ".py",
   "mimetype": "text/x-python",
   "name": "python",
   "nbconvert_exporter": "python",
   "pygments_lexer": "ipython2",
   "version": "2.7.6"
  }
 },
 "nbformat": 4,
 "nbformat_minor": 5
}
